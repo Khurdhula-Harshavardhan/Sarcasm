{
 "cells": [
  {
   "cell_type": "markdown",
   "metadata": {},
   "source": [
    "This notebook fits an Bidirectional Long Term Short Term model for Dection of sarcasm within headlines."
   ]
  },
  {
   "cell_type": "code",
   "execution_count": 1,
   "metadata": {},
   "outputs": [],
   "source": [
    "import pandas as pd\n",
    "\n",
    "\n",
    "from sklearn.model_selection import train_test_split\n",
    "import matplotlib.pyplot as plt\n",
    "import numpy as np\n",
    "from scipy.sparse import hstack\n",
    "from normalizer import Normalizer\n",
    "import tensorflow as tf\n",
    "from tensorflow import keras\n",
    "\n",
    "\n",
    "tf.device = tf.device(\"gpu\")"
   ]
  },
  {
   "cell_type": "markdown",
   "metadata": {},
   "source": [
    "Load the dataset:"
   ]
  },
  {
   "cell_type": "code",
   "execution_count": 2,
   "metadata": {},
   "outputs": [],
   "source": [
    "data = pd.read_json(\"../dataset/Sarcasm_Headlines_Dataset.json\", lines = True)"
   ]
  },
  {
   "cell_type": "code",
   "execution_count": 3,
   "metadata": {},
   "outputs": [
    {
     "data": {
      "text/html": [
       "<div>\n",
       "<style scoped>\n",
       "    .dataframe tbody tr th:only-of-type {\n",
       "        vertical-align: middle;\n",
       "    }\n",
       "\n",
       "    .dataframe tbody tr th {\n",
       "        vertical-align: top;\n",
       "    }\n",
       "\n",
       "    .dataframe thead th {\n",
       "        text-align: right;\n",
       "    }\n",
       "</style>\n",
       "<table border=\"1\" class=\"dataframe\">\n",
       "  <thead>\n",
       "    <tr style=\"text-align: right;\">\n",
       "      <th></th>\n",
       "      <th>article_link</th>\n",
       "      <th>headline</th>\n",
       "      <th>is_sarcastic</th>\n",
       "    </tr>\n",
       "  </thead>\n",
       "  <tbody>\n",
       "    <tr>\n",
       "      <th>0</th>\n",
       "      <td>https://www.huffingtonpost.com/entry/versace-b...</td>\n",
       "      <td>former versace store clerk sues over secret 'b...</td>\n",
       "      <td>0</td>\n",
       "    </tr>\n",
       "    <tr>\n",
       "      <th>1</th>\n",
       "      <td>https://www.huffingtonpost.com/entry/roseanne-...</td>\n",
       "      <td>the 'roseanne' revival catches up to our thorn...</td>\n",
       "      <td>0</td>\n",
       "    </tr>\n",
       "    <tr>\n",
       "      <th>2</th>\n",
       "      <td>https://local.theonion.com/mom-starting-to-fea...</td>\n",
       "      <td>mom starting to fear son's web series closest ...</td>\n",
       "      <td>1</td>\n",
       "    </tr>\n",
       "    <tr>\n",
       "      <th>3</th>\n",
       "      <td>https://politics.theonion.com/boehner-just-wan...</td>\n",
       "      <td>boehner just wants wife to listen, not come up...</td>\n",
       "      <td>1</td>\n",
       "    </tr>\n",
       "    <tr>\n",
       "      <th>4</th>\n",
       "      <td>https://www.huffingtonpost.com/entry/jk-rowlin...</td>\n",
       "      <td>j.k. rowling wishes snape happy birthday in th...</td>\n",
       "      <td>0</td>\n",
       "    </tr>\n",
       "  </tbody>\n",
       "</table>\n",
       "</div>"
      ],
      "text/plain": [
       "                                        article_link  \\\n",
       "0  https://www.huffingtonpost.com/entry/versace-b...   \n",
       "1  https://www.huffingtonpost.com/entry/roseanne-...   \n",
       "2  https://local.theonion.com/mom-starting-to-fea...   \n",
       "3  https://politics.theonion.com/boehner-just-wan...   \n",
       "4  https://www.huffingtonpost.com/entry/jk-rowlin...   \n",
       "\n",
       "                                            headline  is_sarcastic  \n",
       "0  former versace store clerk sues over secret 'b...             0  \n",
       "1  the 'roseanne' revival catches up to our thorn...             0  \n",
       "2  mom starting to fear son's web series closest ...             1  \n",
       "3  boehner just wants wife to listen, not come up...             1  \n",
       "4  j.k. rowling wishes snape happy birthday in th...             0  "
      ]
     },
     "execution_count": 3,
     "metadata": {},
     "output_type": "execute_result"
    }
   ],
   "source": [
    "data.head()"
   ]
  },
  {
   "cell_type": "code",
   "execution_count": 4,
   "metadata": {},
   "outputs": [
    {
     "name": "stdout",
     "output_type": "stream",
     "text": [
      "<class 'pandas.core.frame.DataFrame'>\n",
      "RangeIndex: 26709 entries, 0 to 26708\n",
      "Data columns (total 3 columns):\n",
      " #   Column        Non-Null Count  Dtype \n",
      "---  ------        --------------  ----- \n",
      " 0   article_link  26709 non-null  object\n",
      " 1   headline      26709 non-null  object\n",
      " 2   is_sarcastic  26709 non-null  int64 \n",
      "dtypes: int64(1), object(2)\n",
      "memory usage: 626.1+ KB\n"
     ]
    }
   ],
   "source": [
    "data.info()"
   ]
  },
  {
   "cell_type": "code",
   "execution_count": 5,
   "metadata": {},
   "outputs": [
    {
     "data": {
      "text/html": [
       "<div>\n",
       "<style scoped>\n",
       "    .dataframe tbody tr th:only-of-type {\n",
       "        vertical-align: middle;\n",
       "    }\n",
       "\n",
       "    .dataframe tbody tr th {\n",
       "        vertical-align: top;\n",
       "    }\n",
       "\n",
       "    .dataframe thead th {\n",
       "        text-align: right;\n",
       "    }\n",
       "</style>\n",
       "<table border=\"1\" class=\"dataframe\">\n",
       "  <thead>\n",
       "    <tr style=\"text-align: right;\">\n",
       "      <th></th>\n",
       "      <th>article_link</th>\n",
       "      <th>headline</th>\n",
       "      <th>is_sarcastic</th>\n",
       "    </tr>\n",
       "  </thead>\n",
       "  <tbody>\n",
       "    <tr>\n",
       "      <th>2</th>\n",
       "      <td>https://local.theonion.com/mom-starting-to-fea...</td>\n",
       "      <td>mom starting to fear son's web series closest ...</td>\n",
       "      <td>1</td>\n",
       "    </tr>\n",
       "    <tr>\n",
       "      <th>3</th>\n",
       "      <td>https://politics.theonion.com/boehner-just-wan...</td>\n",
       "      <td>boehner just wants wife to listen, not come up...</td>\n",
       "      <td>1</td>\n",
       "    </tr>\n",
       "    <tr>\n",
       "      <th>8</th>\n",
       "      <td>https://politics.theonion.com/top-snake-handle...</td>\n",
       "      <td>top snake handler leaves sinking huckabee camp...</td>\n",
       "      <td>1</td>\n",
       "    </tr>\n",
       "    <tr>\n",
       "      <th>15</th>\n",
       "      <td>https://entertainment.theonion.com/nuclear-bom...</td>\n",
       "      <td>nuclear bomb detonates during rehearsal for 's...</td>\n",
       "      <td>1</td>\n",
       "    </tr>\n",
       "    <tr>\n",
       "      <th>16</th>\n",
       "      <td>https://www.theonion.com/cosby-lawyer-asks-why...</td>\n",
       "      <td>cosby lawyer asks why accusers didn't come for...</td>\n",
       "      <td>1</td>\n",
       "    </tr>\n",
       "  </tbody>\n",
       "</table>\n",
       "</div>"
      ],
      "text/plain": [
       "                                         article_link  \\\n",
       "2   https://local.theonion.com/mom-starting-to-fea...   \n",
       "3   https://politics.theonion.com/boehner-just-wan...   \n",
       "8   https://politics.theonion.com/top-snake-handle...   \n",
       "15  https://entertainment.theonion.com/nuclear-bom...   \n",
       "16  https://www.theonion.com/cosby-lawyer-asks-why...   \n",
       "\n",
       "                                             headline  is_sarcastic  \n",
       "2   mom starting to fear son's web series closest ...             1  \n",
       "3   boehner just wants wife to listen, not come up...             1  \n",
       "8   top snake handler leaves sinking huckabee camp...             1  \n",
       "15  nuclear bomb detonates during rehearsal for 's...             1  \n",
       "16  cosby lawyer asks why accusers didn't come for...             1  "
      ]
     },
     "execution_count": 5,
     "metadata": {},
     "output_type": "execute_result"
    }
   ],
   "source": [
    "sarcastic_data = data.loc[data[\"is_sarcastic\"]==1]\n",
    "nonsarcastic_data = data.loc[data[\"is_sarcastic\"]==0][:11724]\n",
    "\n",
    "data = pd.concat([sarcastic_data, nonsarcastic_data])\n",
    "data.head(5)"
   ]
  },
  {
   "cell_type": "code",
   "execution_count": 6,
   "metadata": {},
   "outputs": [],
   "source": [
    "data = data.sample(frac=1).reset_index(drop=True)"
   ]
  },
  {
   "cell_type": "code",
   "execution_count": 7,
   "metadata": {},
   "outputs": [],
   "source": [
    "data = data.drop(columns=[\"article_link\"])"
   ]
  },
  {
   "cell_type": "code",
   "execution_count": 8,
   "metadata": {},
   "outputs": [
    {
     "name": "stdout",
     "output_type": "stream",
     "text": [
      "<class 'pandas.core.frame.DataFrame'>\n",
      "RangeIndex: 23448 entries, 0 to 23447\n",
      "Data columns (total 2 columns):\n",
      " #   Column        Non-Null Count  Dtype \n",
      "---  ------        --------------  ----- \n",
      " 0   headline      23448 non-null  object\n",
      " 1   is_sarcastic  23448 non-null  int64 \n",
      "dtypes: int64(1), object(1)\n",
      "memory usage: 366.5+ KB\n"
     ]
    }
   ],
   "source": [
    "data.info()"
   ]
  },
  {
   "cell_type": "code",
   "execution_count": 10,
   "metadata": {},
   "outputs": [],
   "source": [
    "X = data[\"headline\"]\n",
    "y = data[\"is_sarcastic\"]"
   ]
  },
  {
   "cell_type": "code",
   "execution_count": 11,
   "metadata": {},
   "outputs": [
    {
     "name": "stdout",
     "output_type": "stream",
     "text": [
      "[INFO] Trying to create word embeddings for this dataframe using Word2Vec model..\n",
      "[INFO] Extracting columns containing text from dataframe.\n",
      "[INFO] Successfully extracted text columns from the dataset.\n",
      "[INFO] Applying Normalization over text:\n",
      "[INFO]       - Converting Text into lower case for caseconsistency.\n",
      "[INFO]       - Extracting only words containing alphabets.\n",
      "[INFO] Text Normalization is now complete.\n",
      "[INFO] Attempting further preprocessing using Tokenizer()\n",
      "[INFO] Fitting a Word2Vec model for this text.\n",
      "[INFO] Creating an embedding matrix!\n",
      "[INFO] Word embeddings created! Successfully!\n"
     ]
    }
   ],
   "source": [
    "X_matrix = Normalizer().get_embeddings(pd.DataFrame({\"text\": X}))\n"
   ]
  },
  {
   "cell_type": "code",
   "execution_count": 12,
   "metadata": {},
   "outputs": [],
   "source": [
    "X_train, X_Test, y_train, y_test = train_test_split(X_matrix, y, test_size=0.33, random_state=42)"
   ]
  },
  {
   "cell_type": "markdown",
   "metadata": {},
   "source": [
    "Let's fit an BiLSTM to this:"
   ]
  },
  {
   "cell_type": "code",
   "execution_count": 28,
   "metadata": {},
   "outputs": [
    {
     "name": "stdout",
     "output_type": "stream",
     "text": [
      "Model: \"sequential_8\"\n",
      "_________________________________________________________________\n",
      " Layer (type)                Output Shape              Param #   \n",
      "=================================================================\n",
      " bidirectional_8 (Bidirecti  (None, 128)               84480     \n",
      " onal)                                                           \n",
      "                                                                 \n",
      " dense_8 (Dense)             (None, 1)                 129       \n",
      "                                                                 \n",
      "=================================================================\n",
      "Total params: 84609 (330.50 KB)\n",
      "Trainable params: 84609 (330.50 KB)\n",
      "Non-trainable params: 0 (0.00 Byte)\n",
      "_________________________________________________________________\n"
     ]
    }
   ],
   "source": [
    "from tensorflow.keras.models import Sequential\n",
    "from tensorflow.keras.layers import Bidirectional, LSTM, Dense\n",
    "\n",
    "# Adjusting for your data shape\n",
    "input_shape = (100, 100)  # 100 words/tokens each represented by a 100-dimensional vector\n",
    "\n",
    "model = Sequential([\n",
    "    Bidirectional(LSTM(64), input_shape=input_shape),  # Adjusted input shape\n",
    "    Dense(1, activation='sigmoid')\n",
    "])\n",
    "optimizer = tf.keras.optimizers.Adam(learning_rate=0.005)  # Increased learning rate a bit\n",
    "model.compile(optimizer=optimizer, loss='binary_crossentropy', metrics=['accuracy'])\n",
    "\n",
    "model.summary()\n"
   ]
  },
  {
   "cell_type": "code",
   "execution_count": 29,
   "metadata": {},
   "outputs": [
    {
     "name": "stdout",
     "output_type": "stream",
     "text": [
      "Epoch 1/25\n",
      "491/491 [==============================] - 17s 31ms/step - loss: 0.6045 - accuracy: 0.6591 - val_loss: 0.6187 - val_accuracy: 0.6406\n",
      "Epoch 2/25\n",
      "491/491 [==============================] - 15s 31ms/step - loss: 0.5448 - accuracy: 0.7192 - val_loss: 0.5643 - val_accuracy: 0.6854\n",
      "Epoch 3/25\n",
      "491/491 [==============================] - 15s 31ms/step - loss: 0.5290 - accuracy: 0.7341 - val_loss: 0.5130 - val_accuracy: 0.7444\n",
      "Epoch 4/25\n",
      "491/491 [==============================] - 15s 31ms/step - loss: 0.5095 - accuracy: 0.7428 - val_loss: 0.5362 - val_accuracy: 0.7273\n",
      "Epoch 5/25\n",
      "491/491 [==============================] - 15s 31ms/step - loss: 0.4999 - accuracy: 0.7485 - val_loss: 0.4917 - val_accuracy: 0.7583\n",
      "Epoch 6/25\n",
      "491/491 [==============================] - 15s 31ms/step - loss: 0.4957 - accuracy: 0.7523 - val_loss: 0.4780 - val_accuracy: 0.7632\n",
      "Epoch 7/25\n",
      "491/491 [==============================] - 15s 31ms/step - loss: 0.4771 - accuracy: 0.7688 - val_loss: 0.4772 - val_accuracy: 0.7698\n",
      "Epoch 8/25\n",
      "491/491 [==============================] - 15s 31ms/step - loss: 0.4747 - accuracy: 0.7668 - val_loss: 0.4711 - val_accuracy: 0.7705\n",
      "Epoch 9/25\n",
      "491/491 [==============================] - 16s 32ms/step - loss: 0.4623 - accuracy: 0.7737 - val_loss: 0.4798 - val_accuracy: 0.7645\n",
      "Epoch 10/25\n",
      "491/491 [==============================] - 16s 32ms/step - loss: 0.4582 - accuracy: 0.7750 - val_loss: 0.5470 - val_accuracy: 0.7207\n",
      "Epoch 11/25\n",
      "491/491 [==============================] - 16s 32ms/step - loss: 0.4553 - accuracy: 0.7792 - val_loss: 0.4715 - val_accuracy: 0.7726\n",
      "Epoch 12/25\n",
      "491/491 [==============================] - 16s 32ms/step - loss: 0.4488 - accuracy: 0.7828 - val_loss: 0.4768 - val_accuracy: 0.7697\n",
      "Epoch 13/25\n",
      "491/491 [==============================] - 16s 32ms/step - loss: 0.4367 - accuracy: 0.7907 - val_loss: 0.4931 - val_accuracy: 0.7639\n",
      "Epoch 14/25\n",
      "491/491 [==============================] - 16s 32ms/step - loss: 0.4309 - accuracy: 0.7922 - val_loss: 0.4756 - val_accuracy: 0.7722\n",
      "Epoch 15/25\n",
      "491/491 [==============================] - 16s 32ms/step - loss: 0.4279 - accuracy: 0.7947 - val_loss: 0.4907 - val_accuracy: 0.7600\n",
      "Epoch 16/25\n",
      "491/491 [==============================] - 16s 32ms/step - loss: 0.4211 - accuracy: 0.7992 - val_loss: 0.4946 - val_accuracy: 0.7583\n",
      "Epoch 17/25\n",
      "491/491 [==============================] - 16s 32ms/step - loss: 0.4117 - accuracy: 0.8019 - val_loss: 0.4902 - val_accuracy: 0.7673\n",
      "Epoch 18/25\n",
      "491/491 [==============================] - 17s 34ms/step - loss: 0.4019 - accuracy: 0.8123 - val_loss: 0.5032 - val_accuracy: 0.7569\n",
      "Epoch 19/25\n",
      "491/491 [==============================] - 16s 33ms/step - loss: 0.3949 - accuracy: 0.8139 - val_loss: 0.4933 - val_accuracy: 0.7726\n",
      "Epoch 20/25\n",
      "491/491 [==============================] - 16s 32ms/step - loss: 0.3867 - accuracy: 0.8185 - val_loss: 0.4996 - val_accuracy: 0.7644\n",
      "Epoch 21/25\n",
      "491/491 [==============================] - 16s 32ms/step - loss: 0.3872 - accuracy: 0.8168 - val_loss: 0.5041 - val_accuracy: 0.7620\n",
      "Epoch 22/25\n",
      "491/491 [==============================] - 16s 32ms/step - loss: 0.3754 - accuracy: 0.8245 - val_loss: 0.5116 - val_accuracy: 0.7604\n",
      "Epoch 23/25\n",
      "491/491 [==============================] - 16s 32ms/step - loss: 0.3676 - accuracy: 0.8296 - val_loss: 0.5175 - val_accuracy: 0.7585\n",
      "Epoch 24/25\n",
      "491/491 [==============================] - 16s 32ms/step - loss: 0.3581 - accuracy: 0.8347 - val_loss: 0.5309 - val_accuracy: 0.7662\n",
      "Epoch 25/25\n",
      "491/491 [==============================] - 16s 32ms/step - loss: 0.3526 - accuracy: 0.8365 - val_loss: 0.5255 - val_accuracy: 0.7657\n"
     ]
    }
   ],
   "source": [
    "history = model.fit(X_train, y_train, epochs=25, batch_size=32, validation_data=(X_Test, y_test))\n"
   ]
  },
  {
   "cell_type": "code",
   "execution_count": 30,
   "metadata": {},
   "outputs": [
    {
     "data": {
      "image/png": "[encoded data removed]",
      "text/plain": [
       "<Figure size 640x480 with 1 Axes>"
      ]
     },
     "metadata": {},
     "output_type": "display_data"
    }
   ],
   "source": [
    "plt.plot(history.history['accuracy'], label='accuracy')\n",
    "plt.plot(history.history['val_accuracy'], label = 'val_accuracy')\n",
    "plt.xlabel('Epoch')\n",
    "plt.ylabel('Accuracy')\n",
    "plt.ylim([0, 1])\n",
    "plt.legend(loc='lower right')\n",
    "plt.grid()\n",
    "plt.show()"
   ]
  },
  {
   "cell_type": "code",
   "execution_count": 32,
   "metadata": {},
   "outputs": [
    {
     "data": {
      "image/png": "[encoded data removed]",
      "text/plain": [
       "<Figure size 640x480 with 1 Axes>"
      ]
     },
     "metadata": {},
     "output_type": "display_data"
    }
   ],
   "source": [
    "losses = history.history[\"val_loss\"]\n",
    "plt.plot(range(1,26), losses)\n",
    "plt.xlabel(\"epochs\")\n",
    "plt.ylabel(\"Validation Loss\")\n",
    "plt.grid()\n",
    "plt.show()"
   ]
  },
  {
   "cell_type": "code",
   "execution_count": 34,
   "metadata": {},
   "outputs": [
    {
     "name": "stdout",
     "output_type": "stream",
     "text": [
      "242/242 [==============================] - 5s 20ms/step\n"
     ]
    }
   ],
   "source": [
    "y_pred = model.predict(X_Test)\n"
   ]
  },
  {
   "cell_type": "code",
   "execution_count": 35,
   "metadata": {},
   "outputs": [
    {
     "name": "stdout",
     "output_type": "stream",
     "text": [
      "              precision    recall  f1-score   support\n",
      "\n",
      "           0       0.79      0.72      0.75      3864\n",
      "           1       0.74      0.82      0.78      3874\n",
      "\n",
      "    accuracy                           0.77      7738\n",
      "   macro avg       0.77      0.77      0.77      7738\n",
      "weighted avg       0.77      0.77      0.77      7738\n",
      "\n"
     ]
    }
   ],
   "source": [
    "from sklearn.metrics import classification_report\n",
    "threshold = 0.5\n",
    "y_pred_binary = (y_pred >= threshold).astype(int)\n",
    "\n",
    "\n",
    "report = classification_report(y_test, y_pred_binary)\n",
    "print(report)"
   ]
  }
 ],
 "metadata": {
  "kernelspec": {
   "display_name": "Python 3",
   "language": "python",
   "name": "python3"
  },
  "language_info": {
   "codemirror_mode": {
    "name": "ipython",
    "version": 3
   },
   "file_extension": ".py",
   "mimetype": "text/x-python",
   "name": "python",
   "nbconvert_exporter": "python",
   "pygments_lexer": "ipython3",
   "version": "3.11.1"
  }
 },
 "nbformat": 4,
 "nbformat_minor": 2
}
