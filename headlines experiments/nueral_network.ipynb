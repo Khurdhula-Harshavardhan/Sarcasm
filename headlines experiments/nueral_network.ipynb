{
 "cells": [
  {
   "cell_type": "markdown",
   "metadata": {},
   "source": [
    "#### This notebook fits a neural network over Headlines dataset for sarcasm detection!"
   ]
  },
  {
   "cell_type": "code",
   "execution_count": 1,
   "metadata": {},
   "outputs": [],
   "source": [
    "import pandas as pd\n",
    "from sklearn.linear_model import LogisticRegression\n",
    "from sklearn.feature_extraction.text import TfidfVectorizer\n",
    "from sklearn.model_selection import train_test_split\n",
    "import matplotlib.pyplot as plt\n",
    "import numpy as np\n",
    "from scipy.sparse import hstack\n",
    "import tensorflow as tf\n",
    "from tensorflow import keras\n",
    "\n",
    "tf.device = tf.device(\"gpu\")"
   ]
  },
  {
   "cell_type": "markdown",
   "metadata": {},
   "source": [
    "Load the dataset:"
   ]
  },
  {
   "cell_type": "code",
   "execution_count": 2,
   "metadata": {},
   "outputs": [],
   "source": [
    "from normalizer import Normalizer\n",
    "data = pd.read_json(\"../dataset/Sarcasm_Headlines_Dataset.json\", lines = True)"
   ]
  },
  {
   "cell_type": "code",
   "execution_count": null,
   "metadata": {},
   "outputs": [],
   "source": []
  },
  {
   "cell_type": "markdown",
   "metadata": {},
   "source": [
    "Explore the data:"
   ]
  },
  {
   "cell_type": "code",
   "execution_count": 3,
   "metadata": {},
   "outputs": [
    {
     "data": {
      "text/html": [
       "<div>\n",
       "<style scoped>\n",
       "    .dataframe tbody tr th:only-of-type {\n",
       "        vertical-align: middle;\n",
       "    }\n",
       "\n",
       "    .dataframe tbody tr th {\n",
       "        vertical-align: top;\n",
       "    }\n",
       "\n",
       "    .dataframe thead th {\n",
       "        text-align: right;\n",
       "    }\n",
       "</style>\n",
       "<table border=\"1\" class=\"dataframe\">\n",
       "  <thead>\n",
       "    <tr style=\"text-align: right;\">\n",
       "      <th></th>\n",
       "      <th>article_link</th>\n",
       "      <th>headline</th>\n",
       "      <th>is_sarcastic</th>\n",
       "    </tr>\n",
       "  </thead>\n",
       "  <tbody>\n",
       "    <tr>\n",
       "      <th>0</th>\n",
       "      <td>https://www.huffingtonpost.com/entry/versace-b...</td>\n",
       "      <td>former versace store clerk sues over secret 'b...</td>\n",
       "      <td>0</td>\n",
       "    </tr>\n",
       "    <tr>\n",
       "      <th>1</th>\n",
       "      <td>https://www.huffingtonpost.com/entry/roseanne-...</td>\n",
       "      <td>the 'roseanne' revival catches up to our thorn...</td>\n",
       "      <td>0</td>\n",
       "    </tr>\n",
       "    <tr>\n",
       "      <th>2</th>\n",
       "      <td>https://local.theonion.com/mom-starting-to-fea...</td>\n",
       "      <td>mom starting to fear son's web series closest ...</td>\n",
       "      <td>1</td>\n",
       "    </tr>\n",
       "    <tr>\n",
       "      <th>3</th>\n",
       "      <td>https://politics.theonion.com/boehner-just-wan...</td>\n",
       "      <td>boehner just wants wife to listen, not come up...</td>\n",
       "      <td>1</td>\n",
       "    </tr>\n",
       "    <tr>\n",
       "      <th>4</th>\n",
       "      <td>https://www.huffingtonpost.com/entry/jk-rowlin...</td>\n",
       "      <td>j.k. rowling wishes snape happy birthday in th...</td>\n",
       "      <td>0</td>\n",
       "    </tr>\n",
       "  </tbody>\n",
       "</table>\n",
       "</div>"
      ],
      "text/plain": [
       "                                        article_link  \\\n",
       "0  https://www.huffingtonpost.com/entry/versace-b...   \n",
       "1  https://www.huffingtonpost.com/entry/roseanne-...   \n",
       "2  https://local.theonion.com/mom-starting-to-fea...   \n",
       "3  https://politics.theonion.com/boehner-just-wan...   \n",
       "4  https://www.huffingtonpost.com/entry/jk-rowlin...   \n",
       "\n",
       "                                            headline  is_sarcastic  \n",
       "0  former versace store clerk sues over secret 'b...             0  \n",
       "1  the 'roseanne' revival catches up to our thorn...             0  \n",
       "2  mom starting to fear son's web series closest ...             1  \n",
       "3  boehner just wants wife to listen, not come up...             1  \n",
       "4  j.k. rowling wishes snape happy birthday in th...             0  "
      ]
     },
     "execution_count": 3,
     "metadata": {},
     "output_type": "execute_result"
    }
   ],
   "source": [
    "data.head()"
   ]
  },
  {
   "cell_type": "code",
   "execution_count": 4,
   "metadata": {},
   "outputs": [
    {
     "name": "stdout",
     "output_type": "stream",
     "text": [
      "<class 'pandas.core.frame.DataFrame'>\n",
      "RangeIndex: 26709 entries, 0 to 26708\n",
      "Data columns (total 3 columns):\n",
      " #   Column        Non-Null Count  Dtype \n",
      "---  ------        --------------  ----- \n",
      " 0   article_link  26709 non-null  object\n",
      " 1   headline      26709 non-null  object\n",
      " 2   is_sarcastic  26709 non-null  int64 \n",
      "dtypes: int64(1), object(2)\n",
      "memory usage: 626.1+ KB\n"
     ]
    }
   ],
   "source": [
    "data.info()"
   ]
  },
  {
   "cell_type": "markdown",
   "metadata": {},
   "source": [
    "Check if the dataset is balanced?"
   ]
  },
  {
   "cell_type": "code",
   "execution_count": 5,
   "metadata": {},
   "outputs": [
    {
     "data": {
      "text/plain": [
       "14985"
      ]
     },
     "execution_count": 5,
     "metadata": {},
     "output_type": "execute_result"
    }
   ],
   "source": [
    "len(data.loc[data[\"is_sarcastic\"]==0])"
   ]
  },
  {
   "cell_type": "code",
   "execution_count": 6,
   "metadata": {},
   "outputs": [
    {
     "data": {
      "text/plain": [
       "11724"
      ]
     },
     "execution_count": 6,
     "metadata": {},
     "output_type": "execute_result"
    }
   ],
   "source": [
    "len(data.loc[data[\"is_sarcastic\"]==1])"
   ]
  },
  {
   "cell_type": "markdown",
   "metadata": {},
   "source": [
    "There are 3000 sarcastic headlines more than non sarcastic headlines."
   ]
  },
  {
   "cell_type": "markdown",
   "metadata": {},
   "source": [
    "We don't need article link column we can drop it safely."
   ]
  },
  {
   "cell_type": "code",
   "execution_count": 7,
   "metadata": {},
   "outputs": [],
   "source": [
    "data = data.drop(columns=[\"article_link\"])"
   ]
  },
  {
   "cell_type": "markdown",
   "metadata": {},
   "source": [
    "Seperate the labels from the text."
   ]
  },
  {
   "cell_type": "code",
   "execution_count": 8,
   "metadata": {},
   "outputs": [],
   "source": [
    "X = data[\"headline\"]\n",
    "y = data[\"is_sarcastic\"]"
   ]
  },
  {
   "cell_type": "markdown",
   "metadata": {},
   "source": [
    "Now using the Normalization package that we created before, let's vectorize the text."
   ]
  },
  {
   "cell_type": "code",
   "execution_count": 9,
   "metadata": {},
   "outputs": [
    {
     "name": "stdout",
     "output_type": "stream",
     "text": [
      "[INFO] Trying to create a sparse matrix for text, using an instance of TfIdf_vectorizer\n",
      "[INFO] Extracting columns containing text from dataframe.\n",
      "[INFO] Successfully extracted text columns from the dataset.\n",
      "[INFO] Applying Normalization over text:\n",
      "[INFO]       - Converting Text into lower case for caseconsistency.\n",
      "[INFO]       - Extracting only words containing alphabets.\n",
      "[INFO] Text Normalization is now complete.\n",
      "[INFO] Fitting the vecotirzer to given text.\n",
      "[INFO] Transforming the text into a sparse matrix.\n",
      "[INFO] Sparse Matrix has been successfully created over the text given as input.\n"
     ]
    },
    {
     "data": {
      "text/plain": [
       "<26709x25661 sparse matrix of type '<class 'numpy.float64'>'\n",
       "\twith 254896 stored elements in Compressed Sparse Row format>"
      ]
     },
     "execution_count": 9,
     "metadata": {},
     "output_type": "execute_result"
    }
   ],
   "source": [
    "nm = Normalizer()\n",
    "X_matrix = nm.vectorize(pd.DataFrame({\"headline\": X}))\n",
    "X_matrix"
   ]
  },
  {
   "cell_type": "markdown",
   "metadata": {},
   "source": [
    "Let's split the set into validation and train set:"
   ]
  },
  {
   "cell_type": "code",
   "execution_count": 10,
   "metadata": {},
   "outputs": [],
   "source": [
    "X_train, X_Test, y_train, y_test = train_test_split(X_matrix, y, test_size=0.33, random_state=42)"
   ]
  },
  {
   "cell_type": "markdown",
   "metadata": {},
   "source": [
    "Now that we have the sparse matrix let's build a Multi Layer perceptron over this."
   ]
  },
  {
   "cell_type": "code",
   "execution_count": 11,
   "metadata": {},
   "outputs": [],
   "source": [
    "mlp = keras.Sequential([\n",
    "    keras.layers.Dense(64, activation='relu', input_shape=(X_train.shape[1],)),\n",
    "    keras.layers.Dense(64, activation='relu'),\n",
    "    keras.layers.Dense(1, activation='sigmoid')\n",
    "])\n",
    "\n",
    "mlp.compile(optimizer='rmsprop', loss='binary_crossentropy', metrics=['accuracy'])"
   ]
  },
  {
   "cell_type": "code",
   "execution_count": 12,
   "metadata": {},
   "outputs": [
    {
     "name": "stdout",
     "output_type": "stream",
     "text": [
      "Epoch 1/10\n",
      "35/35 [==============================] - 2s 50ms/step - loss: 0.6768 - accuracy: 0.5646 - val_loss: 0.6542 - val_accuracy: 0.5661\n",
      "Epoch 2/10\n",
      "35/35 [==============================] - 1s 27ms/step - loss: 0.6012 - accuracy: 0.6944 - val_loss: 0.5465 - val_accuracy: 0.8033\n",
      "Epoch 3/10\n",
      "35/35 [==============================] - 1s 26ms/step - loss: 0.4680 - accuracy: 0.8452 - val_loss: 0.4346 - val_accuracy: 0.8357\n",
      "Epoch 4/10\n",
      "35/35 [==============================] - 1s 29ms/step - loss: 0.3509 - accuracy: 0.8874 - val_loss: 0.3717 - val_accuracy: 0.8480\n",
      "Epoch 5/10\n",
      "35/35 [==============================] - 1s 28ms/step - loss: 0.2694 - accuracy: 0.9110 - val_loss: 0.3483 - val_accuracy: 0.8499\n",
      "Epoch 6/10\n",
      "35/35 [==============================] - 1s 32ms/step - loss: 0.2112 - accuracy: 0.9326 - val_loss: 0.3490 - val_accuracy: 0.8488\n",
      "Epoch 7/10\n",
      "35/35 [==============================] - 1s 28ms/step - loss: 0.1666 - accuracy: 0.9502 - val_loss: 0.3578 - val_accuracy: 0.8454\n",
      "Epoch 8/10\n",
      "35/35 [==============================] - 1s 29ms/step - loss: 0.1317 - accuracy: 0.9637 - val_loss: 0.3744 - val_accuracy: 0.8452\n",
      "Epoch 9/10\n",
      "35/35 [==============================] - 1s 29ms/step - loss: 0.1032 - accuracy: 0.9741 - val_loss: 0.3974 - val_accuracy: 0.8426\n",
      "Epoch 10/10\n",
      "35/35 [==============================] - 1s 28ms/step - loss: 0.0814 - accuracy: 0.9809 - val_loss: 0.4242 - val_accuracy: 0.8409\n"
     ]
    }
   ],
   "source": [
    "history = mlp.fit(X_train.toarray(), y_train, epochs=10, batch_size=512, validation_data=(X_Test.toarray(), y_test))\n"
   ]
  },
  {
   "cell_type": "markdown",
   "metadata": {},
   "source": [
    "Let's see the Training and Validation accuracy:"
   ]
  },
  {
   "cell_type": "code",
   "execution_count": 13,
   "metadata": {},
   "outputs": [
    {
     "data": {
      "image/png": "[encoded data removed]",
      "text/plain": [
       "<Figure size 640x480 with 1 Axes>"
      ]
     },
     "metadata": {},
     "output_type": "display_data"
    }
   ],
   "source": [
    "plt.plot(history.history['accuracy'], label='accuracy')\n",
    "plt.plot(history.history['val_accuracy'], label = 'val_accuracy')\n",
    "plt.xlabel('Epoch')\n",
    "plt.ylabel('Accuracy')\n",
    "plt.ylim([0, 1])\n",
    "plt.legend(loc='lower right')\n",
    "plt.grid()\n",
    "plt.show()"
   ]
  },
  {
   "cell_type": "markdown",
   "metadata": {},
   "source": [
    "Let's see how the model does on loss:"
   ]
  },
  {
   "cell_type": "code",
   "execution_count": 14,
   "metadata": {},
   "outputs": [
    {
     "data": {
      "image/png": "[encoded data removed]",
      "text/plain": [
       "<Figure size 640x480 with 1 Axes>"
      ]
     },
     "metadata": {},
     "output_type": "display_data"
    }
   ],
   "source": [
    "losses = history.history[\"val_loss\"]\n",
    "plt.plot(range(1,11), losses)\n",
    "plt.xlabel(\"epochs\")\n",
    "plt.ylabel(\"Validation Loss\")\n",
    "plt.grid()\n",
    "plt.show()"
   ]
  },
  {
   "cell_type": "markdown",
   "metadata": {},
   "source": [
    "As we can see the validation loss increases after close to 5 epochs, it's better to early stop fitting, I guess the model is overfitting."
   ]
  },
  {
   "cell_type": "markdown",
   "metadata": {},
   "source": [
    "Let's refine the model:"
   ]
  },
  {
   "cell_type": "code",
   "execution_count": 15,
   "metadata": {},
   "outputs": [],
   "source": [
    "mlp = keras.Sequential([\n",
    "    keras.layers.Dense(64, activation='relu', input_shape=(X_train.shape[1],)),\n",
    "    keras.layers.Dense(64, activation='relu'),\n",
    "    \n",
    "    keras.layers.Dense(1, activation='sigmoid')\n",
    "])\n",
    "mlp.compile(optimizer='rmsprop', loss='binary_crossentropy', metrics=['accuracy'])\n"
   ]
  },
  {
   "cell_type": "code",
   "execution_count": 16,
   "metadata": {},
   "outputs": [
    {
     "name": "stdout",
     "output_type": "stream",
     "text": [
      "Epoch 1/5\n",
      "35/35 [==============================] - 3s 65ms/step - loss: 0.6824 - accuracy: 0.5597 - val_loss: 0.6703 - val_accuracy: 0.5565\n",
      "Epoch 2/5\n",
      "35/35 [==============================] - 1s 30ms/step - loss: 0.6338 - accuracy: 0.6350 - val_loss: 0.5900 - val_accuracy: 0.8122\n",
      "Epoch 3/5\n",
      "35/35 [==============================] - 1s 31ms/step - loss: 0.5153 - accuracy: 0.8322 - val_loss: 0.4679 - val_accuracy: 0.8364\n",
      "Epoch 4/5\n",
      "35/35 [==============================] - 1s 33ms/step - loss: 0.3861 - accuracy: 0.8771 - val_loss: 0.3870 - val_accuracy: 0.8422\n",
      "Epoch 5/5\n",
      "35/35 [==============================] - 1s 33ms/step - loss: 0.2945 - accuracy: 0.9025 - val_loss: 0.3529 - val_accuracy: 0.8483\n"
     ]
    }
   ],
   "source": [
    "history = mlp.fit(X_train.toarray(), y_train, epochs=5, batch_size=512, validation_data=(X_Test.toarray(), y_test))\n"
   ]
  },
  {
   "cell_type": "markdown",
   "metadata": {},
   "source": [
    "Let's see how the refined model performs:"
   ]
  },
  {
   "cell_type": "code",
   "execution_count": 17,
   "metadata": {},
   "outputs": [
    {
     "data": {
      "image/png": "[encoded data removed]",
      "text/plain": [
       "<Figure size 640x480 with 1 Axes>"
      ]
     },
     "metadata": {},
     "output_type": "display_data"
    }
   ],
   "source": [
    "plt.plot(history.history['accuracy'], label='accuracy')\n",
    "plt.plot(history.history['val_accuracy'], label = 'val_accuracy')\n",
    "plt.xlabel('Epoch')\n",
    "plt.ylabel('Accuracy')\n",
    "plt.ylim([0, 1])\n",
    "plt.legend(loc='lower right')\n",
    "plt.grid()\n",
    "plt.show()"
   ]
  },
  {
   "cell_type": "markdown",
   "metadata": {},
   "source": [
    "That's much better! Let's look at the validation loss:"
   ]
  },
  {
   "cell_type": "code",
   "execution_count": 18,
   "metadata": {},
   "outputs": [
    {
     "data": {
      "image/png": "[encoded data removed]",
      "text/plain": [
       "<Figure size 640x480 with 1 Axes>"
      ]
     },
     "metadata": {},
     "output_type": "display_data"
    }
   ],
   "source": [
    "losses = history.history[\"val_loss\"]\n",
    "plt.plot(range(1,6), losses)\n",
    "plt.xlabel(\"epochs\")\n",
    "plt.ylabel(\"Validation Loss\")\n",
    "plt.grid()\n",
    "plt.show()"
   ]
  },
  {
   "cell_type": "markdown",
   "metadata": {},
   "source": [
    "Great! the Loss decreases to the minimum of 0.35! that's wonderful."
   ]
  },
  {
   "cell_type": "code",
   "execution_count": 19,
   "metadata": {},
   "outputs": [
    {
     "data": {
      "text/plain": [
       "<8814x25661 sparse matrix of type '<class 'numpy.float64'>'\n",
       "\twith 84062 stored elements in Compressed Sparse Row format>"
      ]
     },
     "execution_count": 19,
     "metadata": {},
     "output_type": "execute_result"
    }
   ],
   "source": [
    "X_Test"
   ]
  },
  {
   "cell_type": "code",
   "execution_count": 20,
   "metadata": {},
   "outputs": [
    {
     "data": {
      "text/plain": [
       "<17895x25661 sparse matrix of type '<class 'numpy.float64'>'\n",
       "\twith 170834 stored elements in Compressed Sparse Row format>"
      ]
     },
     "execution_count": 20,
     "metadata": {},
     "output_type": "execute_result"
    }
   ],
   "source": [
    "X_train"
   ]
  },
  {
   "cell_type": "code",
   "execution_count": 21,
   "metadata": {},
   "outputs": [
    {
     "name": "stdout",
     "output_type": "stream",
     "text": [
      "276/276 [==============================] - 1s 2ms/step\n"
     ]
    }
   ],
   "source": [
    "y_pred = mlp.predict(X_Test.toarray())"
   ]
  },
  {
   "cell_type": "code",
   "execution_count": 22,
   "metadata": {},
   "outputs": [
    {
     "name": "stdout",
     "output_type": "stream",
     "text": [
      "              precision    recall  f1-score   support\n",
      "\n",
      "           0       0.85      0.88      0.87      4904\n",
      "           1       0.84      0.81      0.83      3910\n",
      "\n",
      "    accuracy                           0.85      8814\n",
      "   macro avg       0.85      0.84      0.85      8814\n",
      "weighted avg       0.85      0.85      0.85      8814\n",
      "\n"
     ]
    }
   ],
   "source": [
    "from sklearn.metrics import classification_report\n",
    "threshold = 0.5\n",
    "y_pred_binary = (y_pred >= threshold).astype(int)\n",
    "\n",
    "# Step 3: Generate the classification report\n",
    "report = classification_report(y_test, y_pred_binary)\n",
    "print(report)"
   ]
  },
  {
   "cell_type": "markdown",
   "metadata": {},
   "source": [
    "We are getting some decent scores using an Multilayer Perceptron."
   ]
  },
  {
   "cell_type": "markdown",
   "metadata": {},
   "source": [
    "Let's try and experiment with reddit data!"
   ]
  },
  {
   "cell_type": "code",
   "execution_count": 23,
   "metadata": {},
   "outputs": [],
   "source": [
    "reddit_data = pd.read_csv(\"../dataset/reddit_human_validation_set_harsha.csv\")"
   ]
  },
  {
   "cell_type": "code",
   "execution_count": 24,
   "metadata": {},
   "outputs": [
    {
     "data": {
      "text/html": [
       "<div>\n",
       "<style scoped>\n",
       "    .dataframe tbody tr th:only-of-type {\n",
       "        vertical-align: middle;\n",
       "    }\n",
       "\n",
       "    .dataframe tbody tr th {\n",
       "        vertical-align: top;\n",
       "    }\n",
       "\n",
       "    .dataframe thead th {\n",
       "        text-align: right;\n",
       "    }\n",
       "</style>\n",
       "<table border=\"1\" class=\"dataframe\">\n",
       "  <thead>\n",
       "    <tr style=\"text-align: right;\">\n",
       "      <th></th>\n",
       "      <th>Unnamed: 0</th>\n",
       "      <th>text</th>\n",
       "      <th>label</th>\n",
       "    </tr>\n",
       "  </thead>\n",
       "  <tbody>\n",
       "    <tr>\n",
       "      <th>0</th>\n",
       "      <td>0</td>\n",
       "      <td>Here's what happens when Obama gives up his Tw...</td>\n",
       "      <td>1</td>\n",
       "    </tr>\n",
       "    <tr>\n",
       "      <th>1</th>\n",
       "      <td>1</td>\n",
       "      <td>Monday night Drinking thread Brought to You by...</td>\n",
       "      <td>1</td>\n",
       "    </tr>\n",
       "    <tr>\n",
       "      <th>2</th>\n",
       "      <td>2</td>\n",
       "      <td>To make predators think they're poisonous? Exa...</td>\n",
       "      <td>1</td>\n",
       "    </tr>\n",
       "    <tr>\n",
       "      <th>3</th>\n",
       "      <td>3</td>\n",
       "      <td>You are on the internet, you can watch everyth...</td>\n",
       "      <td>1</td>\n",
       "    </tr>\n",
       "    <tr>\n",
       "      <th>4</th>\n",
       "      <td>4</td>\n",
       "      <td>Huma feigns ignorance, deflects blame to her W...</td>\n",
       "      <td>1</td>\n",
       "    </tr>\n",
       "    <tr>\n",
       "      <th>5</th>\n",
       "      <td>5</td>\n",
       "      <td>I saw it described once that \"boys are for fun...</td>\n",
       "      <td>1</td>\n",
       "    </tr>\n",
       "    <tr>\n",
       "      <th>6</th>\n",
       "      <td>6</td>\n",
       "      <td>Protein shakes: easy and no chewing involved. ...</td>\n",
       "      <td>1</td>\n",
       "    </tr>\n",
       "    <tr>\n",
       "      <th>7</th>\n",
       "      <td>7</td>\n",
       "      <td>It amuses me the way you can armchair opinions...</td>\n",
       "      <td>1</td>\n",
       "    </tr>\n",
       "    <tr>\n",
       "      <th>8</th>\n",
       "      <td>8</td>\n",
       "      <td>Trump is an idiot and so is anyone who support...</td>\n",
       "      <td>1</td>\n",
       "    </tr>\n",
       "    <tr>\n",
       "      <th>9</th>\n",
       "      <td>9</td>\n",
       "      <td>why the fuck were you letting an 9 year old ha...</td>\n",
       "      <td>1</td>\n",
       "    </tr>\n",
       "  </tbody>\n",
       "</table>\n",
       "</div>"
      ],
      "text/plain": [
       "   Unnamed: 0                                               text  label\n",
       "0           0  Here's what happens when Obama gives up his Tw...      1\n",
       "1           1  Monday night Drinking thread Brought to You by...      1\n",
       "2           2  To make predators think they're poisonous? Exa...      1\n",
       "3           3  You are on the internet, you can watch everyth...      1\n",
       "4           4  Huma feigns ignorance, deflects blame to her W...      1\n",
       "5           5  I saw it described once that \"boys are for fun...      1\n",
       "6           6  Protein shakes: easy and no chewing involved. ...      1\n",
       "7           7  It amuses me the way you can armchair opinions...      1\n",
       "8           8  Trump is an idiot and so is anyone who support...      1\n",
       "9           9  why the fuck were you letting an 9 year old ha...      1"
      ]
     },
     "execution_count": 24,
     "metadata": {},
     "output_type": "execute_result"
    }
   ],
   "source": [
    "reddit_data.head(10)"
   ]
  },
  {
   "cell_type": "code",
   "execution_count": 25,
   "metadata": {},
   "outputs": [],
   "source": [
    "reddit_data = reddit_data.drop(columns=[\"Unnamed: 0\"])"
   ]
  },
  {
   "cell_type": "markdown",
   "metadata": {},
   "source": [
    "Let's get the representation for this dataset!"
   ]
  },
  {
   "cell_type": "code",
   "execution_count": 26,
   "metadata": {},
   "outputs": [
    {
     "name": "stdout",
     "output_type": "stream",
     "text": [
      "[INFO] Trying to create a sparse matrix for text, using an instance of TfIdf_vectorizer\n",
      "[INFO] Extracting columns containing text from dataframe.\n",
      "[INFO] Successfully extracted text columns from the dataset.\n",
      "[INFO] Applying Normalization over text:\n",
      "[INFO]       - Converting Text into lower case for caseconsistency.\n",
      "[INFO]       - Extracting only words containing alphabets.\n",
      "[INFO] Text Normalization is now complete.\n",
      "[INFO] Fitting the vecotirzer to given text.\n",
      "[INFO] Transforming the text into a sparse matrix.\n",
      "[INFO] Sparse Matrix has been successfully created over the text given as input.\n"
     ]
    }
   ],
   "source": [
    "matrix = nm.get_matrix(reddit_data)"
   ]
  },
  {
   "cell_type": "code",
   "execution_count": 27,
   "metadata": {},
   "outputs": [
    {
     "name": "stdout",
     "output_type": "stream",
     "text": [
      "16/16 [==============================] - 0s 3ms/step\n",
      "              precision    recall  f1-score   support\n",
      "\n",
      "           0       0.48      0.81      0.60       250\n",
      "           1       0.40      0.12      0.19       250\n",
      "\n",
      "    accuracy                           0.47       500\n",
      "   macro avg       0.44      0.47      0.40       500\n",
      "weighted avg       0.44      0.47      0.40       500\n",
      "\n"
     ]
    }
   ],
   "source": [
    "y_pred = mlp.predict(matrix.toarray())\n",
    "from sklearn.metrics import classification_report\n",
    "threshold = 0.5\n",
    "y_pred_binary = (y_pred >= threshold).astype(int)\n",
    "report = classification_report(reddit_data[\"label\"], y_pred_binary)\n",
    "print(report)"
   ]
  },
  {
   "cell_type": "markdown",
   "metadata": {},
   "source": [
    "### MLP using word embeddings: "
   ]
  },
  {
   "cell_type": "code",
   "execution_count": 28,
   "metadata": {},
   "outputs": [
    {
     "name": "stdout",
     "output_type": "stream",
     "text": [
      "[INFO] Trying to create word embeddings for this dataframe using Word2Vec model..\n",
      "[INFO] Extracting columns containing text from dataframe.\n",
      "[INFO] Successfully extracted text columns from the dataset.\n",
      "[INFO] Applying Normalization over text:\n",
      "[INFO]       - Converting Text into lower case for caseconsistency.\n",
      "[INFO]       - Extracting only words containing alphabets.\n",
      "[INFO] Text Normalization is now complete.\n",
      "[INFO] Attempting further preprocessing using Tokenizer()\n",
      "[INFO] Fitting a Word2Vec model for this text.\n",
      "[INFO] Creating an embedding matrix!\n",
      "[INFO] Word embeddings created! Successfully!\n"
     ]
    }
   ],
   "source": [
    "embeddings = Normalizer().get_embeddings(pd.read_json(\"../dataset/Sarcasm_Headlines_Dataset.json\", lines=True))"
   ]
  },
  {
   "cell_type": "code",
   "execution_count": 29,
   "metadata": {},
   "outputs": [],
   "source": [
    "X_train, X_Test, y_train, y_test = train_test_split(embeddings, y, test_size=0.33, random_state=42)"
   ]
  },
  {
   "cell_type": "code",
   "execution_count": 36,
   "metadata": {},
   "outputs": [],
   "source": [
    "mlp = keras.Sequential([\n",
    "    keras.layers.Dense(128, activation='relu', input_shape=(X_train.shape[1],)),\n",
    "    keras.layers.Dense(64, activation='relu'),\n",
    "    keras.layers.Dense(64, activation='relu'),\n",
    "    \n",
    "    keras.layers.Dense(1, activation='sigmoid')\n",
    "])\n",
    "mlp.compile(optimizer='adam', loss='binary_crossentropy', metrics=['accuracy'])\n"
   ]
  },
  {
   "cell_type": "code",
   "execution_count": 37,
   "metadata": {},
   "outputs": [
    {
     "name": "stdout",
     "output_type": "stream",
     "text": [
      "Epoch 1/25\n",
      "35/35 [==============================] - 3s 56ms/step - loss: 0.6592 - accuracy: 0.5792 - val_loss: 0.6560 - val_accuracy: 0.5754\n",
      "Epoch 2/25\n",
      "35/35 [==============================] - 2s 51ms/step - loss: 0.6536 - accuracy: 0.5819 - val_loss: 0.6547 - val_accuracy: 0.5752\n",
      "Epoch 3/25\n",
      "35/35 [==============================] - 2s 56ms/step - loss: 0.6529 - accuracy: 0.5825 - val_loss: 0.6542 - val_accuracy: 0.5766\n",
      "Epoch 4/25\n",
      "35/35 [==============================] - 2s 63ms/step - loss: 0.6525 - accuracy: 0.5829 - val_loss: 0.6539 - val_accuracy: 0.5773\n",
      "Epoch 5/25\n",
      "35/35 [==============================] - 2s 60ms/step - loss: 0.6522 - accuracy: 0.5831 - val_loss: 0.6539 - val_accuracy: 0.5772\n",
      "Epoch 6/25\n",
      "35/35 [==============================] - 2s 54ms/step - loss: 0.6520 - accuracy: 0.5836 - val_loss: 0.6536 - val_accuracy: 0.5754\n",
      "Epoch 7/25\n",
      "35/35 [==============================] - 2s 54ms/step - loss: 0.6520 - accuracy: 0.5833 - val_loss: 0.6531 - val_accuracy: 0.5778\n",
      "Epoch 8/25\n",
      "35/35 [==============================] - 2s 50ms/step - loss: 0.6516 - accuracy: 0.5841 - val_loss: 0.6528 - val_accuracy: 0.5779\n",
      "Epoch 9/25\n",
      "35/35 [==============================] - 2s 50ms/step - loss: 0.6510 - accuracy: 0.5841 - val_loss: 0.6521 - val_accuracy: 0.5786\n",
      "Epoch 10/25\n",
      "35/35 [==============================] - 2s 50ms/step - loss: 0.6505 - accuracy: 0.5846 - val_loss: 0.6537 - val_accuracy: 0.5782\n",
      "Epoch 11/25\n",
      "35/35 [==============================] - 2s 52ms/step - loss: 0.6507 - accuracy: 0.5848 - val_loss: 0.6519 - val_accuracy: 0.5786\n",
      "Epoch 12/25\n",
      "35/35 [==============================] - 2s 53ms/step - loss: 0.6511 - accuracy: 0.5844 - val_loss: 0.6518 - val_accuracy: 0.5791\n",
      "Epoch 13/25\n",
      "35/35 [==============================] - 2s 50ms/step - loss: 0.6501 - accuracy: 0.5849 - val_loss: 0.6517 - val_accuracy: 0.5789\n",
      "Epoch 14/25\n",
      "35/35 [==============================] - 2s 51ms/step - loss: 0.6504 - accuracy: 0.5847 - val_loss: 0.6514 - val_accuracy: 0.5789\n",
      "Epoch 15/25\n",
      "35/35 [==============================] - 2s 52ms/step - loss: 0.6499 - accuracy: 0.5849 - val_loss: 0.6514 - val_accuracy: 0.5790\n",
      "Epoch 16/25\n",
      "35/35 [==============================] - 2s 50ms/step - loss: 0.6501 - accuracy: 0.5850 - val_loss: 0.6513 - val_accuracy: 0.5790\n",
      "Epoch 17/25\n",
      "35/35 [==============================] - 2s 52ms/step - loss: 0.6497 - accuracy: 0.5850 - val_loss: 0.6509 - val_accuracy: 0.5791\n",
      "Epoch 18/25\n",
      "35/35 [==============================] - 2s 53ms/step - loss: 0.6499 - accuracy: 0.5851 - val_loss: 0.6509 - val_accuracy: 0.5793\n",
      "Epoch 19/25\n",
      "35/35 [==============================] - 2s 52ms/step - loss: 0.6502 - accuracy: 0.5850 - val_loss: 0.6507 - val_accuracy: 0.5792\n",
      "Epoch 20/25\n",
      "35/35 [==============================] - 2s 51ms/step - loss: 0.6495 - accuracy: 0.5852 - val_loss: 0.6507 - val_accuracy: 0.5792\n",
      "Epoch 21/25\n",
      "35/35 [==============================] - 2s 51ms/step - loss: 0.6496 - accuracy: 0.5852 - val_loss: 0.6505 - val_accuracy: 0.5792\n",
      "Epoch 22/25\n",
      "35/35 [==============================] - 2s 53ms/step - loss: 0.6494 - accuracy: 0.5852 - val_loss: 0.6506 - val_accuracy: 0.5793\n",
      "Epoch 23/25\n",
      "35/35 [==============================] - 2s 57ms/step - loss: 0.6494 - accuracy: 0.5851 - val_loss: 0.6517 - val_accuracy: 0.5792\n",
      "Epoch 24/25\n",
      "35/35 [==============================] - 2s 54ms/step - loss: 0.6494 - accuracy: 0.5852 - val_loss: 0.6509 - val_accuracy: 0.5793\n",
      "Epoch 25/25\n",
      "35/35 [==============================] - 2s 51ms/step - loss: 0.6492 - accuracy: 0.5853 - val_loss: 0.6505 - val_accuracy: 0.5793\n"
     ]
    }
   ],
   "source": [
    "history = mlp.fit(X_train, y_train, epochs=25, batch_size=512, validation_data=(X_Test, y_test))\n"
   ]
  }
 ],
 "metadata": {
  "kernelspec": {
   "display_name": "Python 3",
   "language": "python",
   "name": "python3"
  },
  "language_info": {
   "codemirror_mode": {
    "name": "ipython",
    "version": 3
   },
   "file_extension": ".py",
   "mimetype": "text/x-python",
   "name": "python",
   "nbconvert_exporter": "python",
   "pygments_lexer": "ipython3",
   "version": "3.11.1"
  }
 },
 "nbformat": 4,
 "nbformat_minor": 2
}
