{
 "cells": [
  {
   "cell_type": "markdown",
   "metadata": {},
   "source": [
    "#### This Notebook Fits and Evaluates Naive Bayes for all three datasets"
   ]
  },
  {
   "cell_type": "markdown",
   "metadata": {},
   "source": [
    "    Let's Load all the necessary modules:"
   ]
  },
  {
   "cell_type": "code",
   "execution_count": 68,
   "metadata": {},
   "outputs": [],
   "source": [
    "import pandas as pd\n",
    "import pandas as pd\n",
    "from sklearn.linear_model import LogisticRegression\n",
    "from sklearn.model_selection import train_test_split\n",
    "import matplotlib.pyplot as plt\n",
    "import numpy as np\n",
    "from normalizer import Normalizer\n",
    "from sklearn.naive_bayes import MultinomialNB\n",
    "from sklearn.metrics import confusion_matrix, ConfusionMatrixDisplay\n",
    "from sklearn.metrics import roc_curve, auc\n",
    "from results import ModelEvaluation\n",
    "from joblib import dump"
   ]
  },
  {
   "cell_type": "markdown",
   "metadata": {},
   "source": [
    "    Lets write some macros for I/O"
   ]
  },
  {
   "cell_type": "code",
   "execution_count": 52,
   "metadata": {},
   "outputs": [],
   "source": [
    "def print_info(msg):\n",
    "    print(\"[INFO] \"+str(msg))\n",
    "\n",
    "def print_err(msg):\n",
    "    print(\"[ERR] \"+str(msg))"
   ]
  },
  {
   "cell_type": "markdown",
   "metadata": {},
   "source": [
    "    Let's initialize some objects that we need through-out"
   ]
  },
  {
   "cell_type": "code",
   "execution_count": 53,
   "metadata": {},
   "outputs": [
    {
     "name": "stdout",
     "output_type": "stream",
     "text": [
      "[INFO] OBJECTS INIT DONE.\n"
     ]
    }
   ],
   "source": [
    "normalizer = Normalizer()\n",
    "results = ModelEvaluation()\n",
    "print_info(\"OBJECTS INIT DONE.\")"
   ]
  },
  {
   "cell_type": "markdown",
   "metadata": {},
   "source": [
    "    Let's load all the datasets:"
   ]
  },
  {
   "cell_type": "code",
   "execution_count": 54,
   "metadata": {},
   "outputs": [
    {
     "name": "stdout",
     "output_type": "stream",
     "text": [
      "[INFO] Twitter Dataset is now loaded.\n",
      "[INFO] NewHeadlines Dataset is now loaded.\n"
     ]
    }
   ],
   "source": [
    "TwitterData = pd.read_csv(\"../dataset/TwitterDataset.txt\", sep=\"\\t\")\n",
    "print_info(\"Twitter Dataset is now loaded.\")\n",
    "NewsHeadlinesData =  pd.read_json(\"../dataset/Sarcasm_Headlines_Dataset.json\", lines = True)\n",
    "print_info(\"NewHeadlines Dataset is now loaded.\")"
   ]
  },
  {
   "cell_type": "markdown",
   "metadata": {},
   "source": []
  },
  {
   "cell_type": "markdown",
   "metadata": {},
   "source": [
    "    Let's explore each of these Datasets:"
   ]
  },
  {
   "cell_type": "code",
   "execution_count": 55,
   "metadata": {},
   "outputs": [
    {
     "name": "stdout",
     "output_type": "stream",
     "text": [
      "[INFO] Changing feature names for data compatibility wihtin News Headlines Dataset\n",
      "[INFO] The Features have been renamed.\n",
      "[INFO] Dropping irrelevant features from this dataset\n",
      "[INFO] NewsHeadlinesData.Link has been dropped.\n",
      "[INFO] The following is information related to NewsHeadlines:\n",
      "[INFO] News Headlines Dataset information:\n",
      "\n",
      "<class 'pandas.core.frame.DataFrame'>\n",
      "RangeIndex: 26709 entries, 0 to 26708\n",
      "Data columns (total 2 columns):\n",
      " #   Column  Non-Null Count  Dtype \n",
      "---  ------  --------------  ----- \n",
      " 0   text    26709 non-null  object\n",
      " 1   label   26709 non-null  int64 \n",
      "dtypes: int64(1), object(1)\n",
      "memory usage: 417.5+ KB\n"
     ]
    }
   ],
   "source": [
    "print_info(\"Changing feature names for data compatibility wihtin News Headlines Dataset\")\n",
    "NewsHeadlinesData.columns =[\"link\", \"text\", \"label\"]\n",
    "print_info(\"The Features have been renamed.\")\n",
    "print_info(\"Dropping irrelevant features from this dataset\")\n",
    "NewsHeadlinesData = NewsHeadlinesData.drop(columns=[\"link\"])\n",
    "print_info(\"NewsHeadlinesData.Link has been dropped.\")\n",
    "print_info(\"The following is information related to NewsHeadlines:\")\n",
    "print_info(\"News Headlines Dataset information:\\n\")\n",
    "NewsHeadlinesData.info()"
   ]
  },
  {
   "cell_type": "code",
   "execution_count": 56,
   "metadata": {},
   "outputs": [
    {
     "name": "stdout",
     "output_type": "stream",
     "text": [
      "[INFO] The Twitter set does not have any column names, adding same feature names as NewsHeadlinesDataset\n",
      "[INFO] Feature names have been updated.\n",
      "[INFO] Dropping irrelevant features\n",
      "[INFO] Irrelevant features have been dropped\n",
      "Twitter Dataset information: \n",
      "\n",
      "<class 'pandas.core.frame.DataFrame'>\n",
      "RangeIndex: 39776 entries, 0 to 39775\n",
      "Data columns (total 2 columns):\n",
      " #   Column  Non-Null Count  Dtype \n",
      "---  ------  --------------  ----- \n",
      " 0   label   39776 non-null  int64 \n",
      " 1   text    39776 non-null  object\n",
      "dtypes: int64(1), object(1)\n",
      "memory usage: 621.6+ KB\n"
     ]
    }
   ],
   "source": [
    "\n",
    "print_info(\"The Twitter set does not have any column names, adding same feature names as NewsHeadlinesDataset\")\n",
    "TwitterData.columns = [\"sample\", \"label\", \"text\"]\n",
    "print_info(\"Feature names have been updated.\")\n",
    "print_info(\"Dropping irrelevant features\")\n",
    "TwitterData = TwitterData.drop(columns= [\"sample\"])\n",
    "print_info(\"Irrelevant features have been dropped\")\n",
    "print(\"Twitter Dataset information: \\n\")\n",
    "TwitterData.info()"
   ]
  },
  {
   "cell_type": "markdown",
   "metadata": {},
   "source": [
    "# 1. Headlines Dataset:"
   ]
  },
  {
   "cell_type": "markdown",
   "metadata": {},
   "source": [
    "    Get the sparse matrix for this text:"
   ]
  },
  {
   "cell_type": "code",
   "execution_count": 57,
   "metadata": {},
   "outputs": [
    {
     "name": "stdout",
     "output_type": "stream",
     "text": [
      "[INFO] Trying to create a sparse matrix for text, using an instance of TfIdf_vectorizer\n",
      "[INFO] Extracting columns containing text from dataframe.\n",
      "[INFO] Successfully extracted text columns from the dataset.\n",
      "[INFO] Applying Normalization over text:\n",
      "[INFO]       - Converting Text into lower case for caseconsistency.\n",
      "[INFO]       - Extracting only words containing alphabets.\n",
      "[INFO] Text Normalization is now complete.\n",
      "[INFO] Fitting the vecotirzer to given text.\n",
      "[INFO] Transforming the text into a sparse matrix.\n",
      "[INFO] Sparse Matrix has been successfully created over the text given as input.\n",
      "[INFO] Here's the sprase matrix info: \n"
     ]
    },
    {
     "data": {
      "text/plain": [
       "<26709x25661 sparse matrix of type '<class 'numpy.float64'>'\n",
       "\twith 254896 stored elements in Compressed Sparse Row format>"
      ]
     },
     "execution_count": 57,
     "metadata": {},
     "output_type": "execute_result"
    }
   ],
   "source": [
    "news_matrix = normalizer.vectorize(pd.DataFrame({\"text\": NewsHeadlinesData[\"text\"].astype(\"str\")}))\n",
    "print_info(\"Here's the sprase matrix info: \")\n",
    "news_matrix"
   ]
  },
  {
   "cell_type": "markdown",
   "metadata": {},
   "source": [
    "    Hold out data for testing:"
   ]
  },
  {
   "cell_type": "code",
   "execution_count": 58,
   "metadata": {},
   "outputs": [
    {
     "name": "stdout",
     "output_type": "stream",
     "text": [
      "[INFO] Attempting to split data into train and test sets.\n",
      "[INFO] Subsets created successfully.\n"
     ]
    }
   ],
   "source": [
    "print_info(\"Attempting to split data into train and test sets.\")\n",
    "y_news = NewsHeadlinesData[\"label\"].astype(\"int\")\n",
    "X_news = news_matrix.toarray()\n",
    "X_news_train, X_news_test, y_news_train, y_news_test = train_test_split(X_news, y_news, test_size=0.20, random_state=42)\n",
    "print_info(\"Subsets created successfully.\")"
   ]
  },
  {
   "cell_type": "markdown",
   "metadata": {},
   "source": [
    "    Lets fit a NB for this set:"
   ]
  },
  {
   "cell_type": "code",
   "execution_count": 60,
   "metadata": {},
   "outputs": [
    {
     "name": "stdout",
     "output_type": "stream",
     "text": [
      "[INFO] Creating a new instance of Naive Bayes for News Headlines\n",
      "[INFO] Fitting a Naive Bayes to this\n",
      "[INFO] DONE.\n"
     ]
    }
   ],
   "source": [
    "print_info(\"Creating a new instance of Naive Bayes for News Headlines\")\n",
    "NB_news = MultinomialNB()\n",
    "print_info(\"Fitting a Naive Bayes to this\")\n",
    "NB_news.fit(X_news_train, y_news_train)\n",
    "print_info(\"DONE.\")"
   ]
  },
  {
   "cell_type": "markdown",
   "metadata": {},
   "source": [
    "    Let's test the Naive Bayes for News Headlines:"
   ]
  },
  {
   "cell_type": "code",
   "execution_count": 61,
   "metadata": {},
   "outputs": [
    {
     "name": "stdout",
     "output_type": "stream",
     "text": [
      "[INFO] Asking the Naive Bayes trained on News Headlines to make some Predictions\n",
      "[INFO] Predictions have been obtained.\n"
     ]
    }
   ],
   "source": [
    "print_info(\"Asking the Naive Bayes trained on News Headlines to make some Predictions\")\n",
    "y_news_pred = NB_news.predict(X_news_test)\n",
    "print_info(\"Predictions have been obtained.\")\n"
   ]
  },
  {
   "cell_type": "markdown",
   "metadata": {},
   "source": [
    "    Let's look at the Performance for Naive Bayes on News Headlines:"
   ]
  },
  {
   "cell_type": "code",
   "execution_count": 64,
   "metadata": {},
   "outputs": [
    {
     "name": "stdout",
     "output_type": "stream",
     "text": [
      "[INFO] The following are the evaluation metrics for NB over news headlines:\n",
      "              precision    recall  f1-score   support\n",
      "\n",
      "           0       0.78      0.94      0.85      2996\n",
      "           1       0.89      0.67      0.76      2346\n",
      "\n",
      "    accuracy                           0.82      5342\n",
      "   macro avg       0.84      0.80      0.81      5342\n",
      "weighted avg       0.83      0.82      0.81      5342\n",
      "\n"
     ]
    }
   ],
   "source": [
    "print_info(\"The following are the evaluation metrics for NB over news headlines:\")\n",
    "results.classification_report(y_news_test, y_news_pred)"
   ]
  },
  {
   "cell_type": "markdown",
   "metadata": {},
   "source": [
    "    Confusion Matrix for NB over NewsHeadlines Dataset:"
   ]
  },
  {
   "cell_type": "code",
   "execution_count": 65,
   "metadata": {},
   "outputs": [
    {
     "data": {
      "image/png": "[encoded data removed]",
      "text/plain": [
       "<Figure size 640x480 with 2 Axes>"
      ]
     },
     "metadata": {},
     "output_type": "display_data"
    }
   ],
   "source": [
    "results.get_cm(y_true=y_news_test, y_pred=y_news_pred)"
   ]
  },
  {
   "cell_type": "markdown",
   "metadata": {},
   "source": [
    "    Let's Look at current ROC_AUC and use best threshold for prediction of values."
   ]
  },
  {
   "cell_type": "code",
   "execution_count": 66,
   "metadata": {},
   "outputs": [
    {
     "data": {
      "image/png": "[encoded data removed]",
      "text/plain": [
       "<Figure size 640x480 with 1 Axes>"
      ]
     },
     "metadata": {},
     "output_type": "display_data"
    },
    {
     "name": "stdout",
     "output_type": "stream",
     "text": [
      "Best Threshold=1.0000\n"
     ]
    }
   ],
   "source": [
    "y_proba_news = NB_news.predict_proba(X_news_test)[:,1]\n",
    "news_threshold = results.get_roc(y_news_test, y_news_pred)"
   ]
  },
  {
   "cell_type": "markdown",
   "metadata": {},
   "source": [
    "The best threshold obtained is not useful for being applied lets move on."
   ]
  },
  {
   "cell_type": "markdown",
   "metadata": {},
   "source": [
    "    Save this Model:"
   ]
  },
  {
   "cell_type": "code",
   "execution_count": 69,
   "metadata": {},
   "outputs": [
    {
     "data": {
      "text/plain": [
       "['../FinalModels/models/NewsHeadlines_NaiveBayes.joblib']"
      ]
     },
     "execution_count": 69,
     "metadata": {},
     "output_type": "execute_result"
    }
   ],
   "source": [
    "dump(NB_news, \"../FinalModels/models/NewsHeadlines_NaiveBayes.joblib\")"
   ]
  },
  {
   "cell_type": "code",
   "execution_count": null,
   "metadata": {},
   "outputs": [],
   "source": []
  }
 ],
 "metadata": {
  "kernelspec": {
   "display_name": "Python 3",
   "language": "python",
   "name": "python3"
  },
  "language_info": {
   "codemirror_mode": {
    "name": "ipython",
    "version": 3
   },
   "file_extension": ".py",
   "mimetype": "text/x-python",
   "name": "python",
   "nbconvert_exporter": "python",
   "pygments_lexer": "ipython3",
   "version": "3.11.1"
  }
 },
 "nbformat": 4,
 "nbformat_minor": 2
}
