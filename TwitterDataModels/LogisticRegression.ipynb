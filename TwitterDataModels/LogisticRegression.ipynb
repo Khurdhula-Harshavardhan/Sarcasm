{
 "cells": [
  {
   "cell_type": "code",
   "execution_count": 1,
   "metadata": {},
   "outputs": [],
   "source": [
    "import pandas as pd\n",
    "import pandas as pd\n",
    "from sklearn.linear_model import LogisticRegression\n",
    "from sklearn.model_selection import train_test_split\n",
    "import matplotlib.pyplot as plt\n",
    "import numpy as np\n",
    "from normalizer import Normalizer\n",
    "from sklearn.naive_bayes import MultinomialNB\n",
    "from sklearn.metrics import confusion_matrix, ConfusionMatrixDisplay\n",
    "from sklearn.metrics import roc_curve, auc\n",
    "from results import ModelEvaluation"
   ]
  },
  {
   "cell_type": "markdown",
   "metadata": {},
   "source": [
    "    Load the data"
   ]
  },
  {
   "cell_type": "code",
   "execution_count": 2,
   "metadata": {},
   "outputs": [],
   "source": [
    "data = pd.read_csv(\"../dataset/TwitterDataset.txt\", sep=\"\\t\")"
   ]
  },
  {
   "cell_type": "markdown",
   "metadata": {},
   "source": [
    "    Let's describe the data"
   ]
  },
  {
   "cell_type": "code",
   "execution_count": 3,
   "metadata": {},
   "outputs": [
    {
     "name": "stdout",
     "output_type": "stream",
     "text": [
      "<class 'pandas.core.frame.DataFrame'>\n",
      "RangeIndex: 39776 entries, 0 to 39775\n",
      "Data columns (total 3 columns):\n",
      " #   Column                                                                                                                          Non-Null Count  Dtype \n",
      "---  ------                                                                                                                          --------------  ----- \n",
      " 0   TrainSen                                                                                                                        39776 non-null  object\n",
      " 1   0                                                                                                                               39776 non-null  int64 \n",
      " 2   @0430yes i hope youre lurking rn. i want to listen to hallucination & wanna love you again live someday, pretty please?! 😭 😭 😭  39776 non-null  object\n",
      "dtypes: int64(1), object(2)\n",
      "memory usage: 932.4+ KB\n"
     ]
    }
   ],
   "source": [
    "data.info()"
   ]
  },
  {
   "cell_type": "markdown",
   "metadata": {},
   "source": [
    "    There are no column names let's provide column names."
   ]
  },
  {
   "cell_type": "code",
   "execution_count": 4,
   "metadata": {},
   "outputs": [],
   "source": [
    "data.columns = [\"sample_type\", \"label\", \"text\"] #changes column names of the dataset.\n",
    "data = data.drop(columns=[\"sample_type\"]) #drop the redudant column.\n",
    "data = data.sample(frac=1, random_state=42).reset_index(drop=True) #shuffle the dataset."
   ]
  },
  {
   "cell_type": "code",
   "execution_count": 5,
   "metadata": {},
   "outputs": [
    {
     "name": "stdout",
     "output_type": "stream",
     "text": [
      "<class 'pandas.core.frame.DataFrame'>\n",
      "RangeIndex: 39776 entries, 0 to 39775\n",
      "Data columns (total 2 columns):\n",
      " #   Column  Non-Null Count  Dtype \n",
      "---  ------  --------------  ----- \n",
      " 0   label   39776 non-null  int64 \n",
      " 1   text    39776 non-null  object\n",
      "dtypes: int64(1), object(1)\n",
      "memory usage: 621.6+ KB\n"
     ]
    }
   ],
   "source": [
    "data.info()"
   ]
  },
  {
   "cell_type": "code",
   "execution_count": 6,
   "metadata": {},
   "outputs": [
    {
     "data": {
      "text/html": [
       "<div>\n",
       "<style scoped>\n",
       "    .dataframe tbody tr th:only-of-type {\n",
       "        vertical-align: middle;\n",
       "    }\n",
       "\n",
       "    .dataframe tbody tr th {\n",
       "        vertical-align: top;\n",
       "    }\n",
       "\n",
       "    .dataframe thead th {\n",
       "        text-align: right;\n",
       "    }\n",
       "</style>\n",
       "<table border=\"1\" class=\"dataframe\">\n",
       "  <thead>\n",
       "    <tr style=\"text-align: right;\">\n",
       "      <th></th>\n",
       "      <th>label</th>\n",
       "      <th>text</th>\n",
       "    </tr>\n",
       "  </thead>\n",
       "  <tbody>\n",
       "    <tr>\n",
       "      <th>0</th>\n",
       "      <td>1</td>\n",
       "      <td>About to make up an entire essay good think I'...</td>\n",
       "    </tr>\n",
       "    <tr>\n",
       "      <th>1</th>\n",
       "      <td>0</td>\n",
       "      <td>@bonnielazzara @gamegirl404 @claudia_cpucci @H...</td>\n",
       "    </tr>\n",
       "    <tr>\n",
       "      <th>2</th>\n",
       "      <td>1</td>\n",
       "      <td>American Literature has been an interesting co...</td>\n",
       "    </tr>\n",
       "    <tr>\n",
       "      <th>3</th>\n",
       "      <td>1</td>\n",
       "      <td>@rachelkcollier sound like backing vocalists #...</td>\n",
       "    </tr>\n",
       "    <tr>\n",
       "      <th>4</th>\n",
       "      <td>1</td>\n",
       "      <td>I said I was gonna wash my face before I went ...</td>\n",
       "    </tr>\n",
       "    <tr>\n",
       "      <th>5</th>\n",
       "      <td>1</td>\n",
       "      <td>I used to think i was good at multi-tasking. T...</td>\n",
       "    </tr>\n",
       "    <tr>\n",
       "      <th>6</th>\n",
       "      <td>1</td>\n",
       "      <td>It's okay to burn a flag with your 1st Amendme...</td>\n",
       "    </tr>\n",
       "    <tr>\n",
       "      <th>7</th>\n",
       "      <td>0</td>\n",
       "      <td>🌸💐🌸💐🌸 HAPPY FRIDAY Blessings ~Love ~Light Wish...</td>\n",
       "    </tr>\n",
       "    <tr>\n",
       "      <th>8</th>\n",
       "      <td>1</td>\n",
       "      <td>last picture with my beautifull sister 3 R. I....</td>\n",
       "    </tr>\n",
       "    <tr>\n",
       "      <th>9</th>\n",
       "      <td>1</td>\n",
       "      <td>Side joy of business travel : spur of the mome...</td>\n",
       "    </tr>\n",
       "  </tbody>\n",
       "</table>\n",
       "</div>"
      ],
      "text/plain": [
       "   label                                               text\n",
       "0      1  About to make up an entire essay good think I'...\n",
       "1      0  @bonnielazzara @gamegirl404 @claudia_cpucci @H...\n",
       "2      1  American Literature has been an interesting co...\n",
       "3      1  @rachelkcollier sound like backing vocalists #...\n",
       "4      1  I said I was gonna wash my face before I went ...\n",
       "5      1  I used to think i was good at multi-tasking. T...\n",
       "6      1  It's okay to burn a flag with your 1st Amendme...\n",
       "7      0  🌸💐🌸💐🌸 HAPPY FRIDAY Blessings ~Love ~Light Wish...\n",
       "8      1  last picture with my beautifull sister 3 R. I....\n",
       "9      1  Side joy of business travel : spur of the mome..."
      ]
     },
     "execution_count": 6,
     "metadata": {},
     "output_type": "execute_result"
    }
   ],
   "source": [
    "data.head(10)"
   ]
  },
  {
   "cell_type": "markdown",
   "metadata": {},
   "source": [
    "    Get sparse matrix representation of the text:"
   ]
  },
  {
   "cell_type": "code",
   "execution_count": 7,
   "metadata": {},
   "outputs": [
    {
     "name": "stdout",
     "output_type": "stream",
     "text": [
      "[INFO] Trying to create a sparse matrix for text, using an instance of TfIdf_vectorizer\n",
      "[INFO] Extracting columns containing text from dataframe.\n",
      "[INFO] Successfully extracted text columns from the dataset.\n",
      "[INFO] Applying Normalization over text:\n",
      "[INFO]       - Converting Text into lower case for caseconsistency.\n",
      "[INFO]       - Extracting only words containing alphabets.\n",
      "[INFO] Text Normalization is now complete.\n",
      "[INFO] Fitting the vecotirzer to given text.\n",
      "[INFO] Transforming the text into a sparse matrix.\n",
      "[INFO] Sparse Matrix has been successfully created over the text given as input.\n"
     ]
    }
   ],
   "source": [
    "normarlizer = Normalizer()\n",
    "matrix = normarlizer.vectorize(pd.DataFrame({\"text\": data[\"text\"]}))"
   ]
  },
  {
   "cell_type": "markdown",
   "metadata": {},
   "source": [
    "    Let's look at the matrix:"
   ]
  },
  {
   "cell_type": "code",
   "execution_count": 8,
   "metadata": {},
   "outputs": [
    {
     "data": {
      "text/plain": [
       "<39776x34292 sparse matrix of type '<class 'numpy.float64'>'\n",
       "\twith 550273 stored elements in Compressed Sparse Row format>"
      ]
     },
     "execution_count": 8,
     "metadata": {},
     "output_type": "execute_result"
    }
   ],
   "source": [
    "matrix"
   ]
  },
  {
   "cell_type": "markdown",
   "metadata": {},
   "source": [
    "    Let's hold out some data for testing."
   ]
  },
  {
   "cell_type": "code",
   "execution_count": 9,
   "metadata": {},
   "outputs": [],
   "source": [
    "y = data[\"label\"]\n",
    "X = matrix.toarray()\n",
    "X_train,  X_test, y_train, y_test = train_test_split(X, y, test_size=0.20, random_state=42)"
   ]
  },
  {
   "cell_type": "markdown",
   "metadata": {},
   "source": [
    "    Let's now fit a LogisticRegression model to this:"
   ]
  },
  {
   "cell_type": "code",
   "execution_count": 10,
   "metadata": {},
   "outputs": [],
   "source": [
    "LR = LogisticRegression(max_iter=1000)"
   ]
  },
  {
   "cell_type": "code",
   "execution_count": 11,
   "metadata": {},
   "outputs": [],
   "source": [
    "LR = LR.fit(X_train, y_train)"
   ]
  },
  {
   "cell_type": "markdown",
   "metadata": {},
   "source": [
    "    Let's test the LR model:"
   ]
  },
  {
   "cell_type": "code",
   "execution_count": 12,
   "metadata": {},
   "outputs": [],
   "source": [
    "y_pred = LR.predict(X_test)\n",
    "results = ModelEvaluation()"
   ]
  },
  {
   "cell_type": "code",
   "execution_count": 13,
   "metadata": {},
   "outputs": [
    {
     "name": "stdout",
     "output_type": "stream",
     "text": [
      "              precision    recall  f1-score   support\n",
      "\n",
      "           0       0.79      0.84      0.81      4279\n",
      "           1       0.80      0.73      0.76      3677\n",
      "\n",
      "    accuracy                           0.79      7956\n",
      "   macro avg       0.79      0.79      0.79      7956\n",
      "weighted avg       0.79      0.79      0.79      7956\n",
      "\n"
     ]
    }
   ],
   "source": [
    "results.classification_report(y_test, y_pred)"
   ]
  },
  {
   "cell_type": "markdown",
   "metadata": {},
   "source": [
    "    We are getting close to 80~"
   ]
  },
  {
   "cell_type": "code",
   "execution_count": 14,
   "metadata": {},
   "outputs": [
    {
     "data": {
      "image/png": "[encoded data removed]",
      "text/plain": [
       "<Figure size 640x480 with 2 Axes>"
      ]
     },
     "metadata": {},
     "output_type": "display_data"
    }
   ],
   "source": [
    "results.get_cm(y_true=y_test, y_pred=y_pred)"
   ]
  },
  {
   "cell_type": "code",
   "execution_count": 15,
   "metadata": {},
   "outputs": [
    {
     "data": {
      "image/png": "[encoded data removed]",
      "text/plain": [
       "<Figure size 640x480 with 1 Axes>"
      ]
     },
     "metadata": {},
     "output_type": "display_data"
    },
    {
     "name": "stdout",
     "output_type": "stream",
     "text": [
      "Best Threshold=0.4556\n"
     ]
    }
   ],
   "source": [
    "y_proba = LR.predict_proba(X_test)[:, 1]\n",
    "y_proba[:10]\n",
    "threshold = results.get_roc(y_true=y_test, y_scores=y_proba)"
   ]
  },
  {
   "cell_type": "markdown",
   "metadata": {},
   "source": [
    "    The model might be overfitting. Let's perform crossvalidation"
   ]
  },
  {
   "cell_type": "code",
   "execution_count": 16,
   "metadata": {},
   "outputs": [
    {
     "name": "stdout",
     "output_type": "stream",
     "text": [
      "Cross-validation scores for each fold: [0.79386626 0.79497172 0.79057197 0.79484601 0.78680075]\n",
      "Mean score: 0.7922113421429428\n",
      "Standard Deviation of the scores: 0.003138850451606218\n"
     ]
    },
    {
     "data": {
      "text/plain": [
       "array([0.79386626, 0.79497172, 0.79057197, 0.79484601, 0.78680075])"
      ]
     },
     "execution_count": 16,
     "metadata": {},
     "output_type": "execute_result"
    }
   ],
   "source": [
    "results.cross_validation_score(LR, X, y, \"accuracy\")"
   ]
  },
  {
   "cell_type": "markdown",
   "metadata": {},
   "source": [
    "    The model is doing well."
   ]
  },
  {
   "cell_type": "code",
   "execution_count": 17,
   "metadata": {},
   "outputs": [
    {
     "data": {
      "text/plain": [
       "['../TwitterDataModels/TrainedModels/LogisticRegression.joblib']"
      ]
     },
     "execution_count": 17,
     "metadata": {},
     "output_type": "execute_result"
    }
   ],
   "source": [
    "import joblib\n",
    "\n",
    "joblib.dump(LR, \"../TwitterDataModels/TrainedModels/LogisticRegression.joblib\")"
   ]
  }
 ],
 "metadata": {
  "kernelspec": {
   "display_name": "Python 3",
   "language": "python",
   "name": "python3"
  },
  "language_info": {
   "codemirror_mode": {
    "name": "ipython",
    "version": 3
   },
   "file_extension": ".py",
   "mimetype": "text/x-python",
   "name": "python",
   "nbconvert_exporter": "python",
   "pygments_lexer": "ipython3",
   "version": "3.11.1"
  }
 },
 "nbformat": 4,
 "nbformat_minor": 2
}
